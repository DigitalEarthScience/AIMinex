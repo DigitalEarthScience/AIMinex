{
 "cells": [
  {
   "cell_type": "code",
   "execution_count": 1,
   "id": "522be26a-3722-40fa-9255-18b781375db5",
   "metadata": {},
   "outputs": [
    {
     "data": {
      "application/vnd.jupyter.widget-view+json": {
       "model_id": "38e89622e8f846d8b22afd16e907abff",
       "version_major": 2,
       "version_minor": 0
      },
      "text/plain": [
       "interactive(children=(IntSlider(value=1, description='w', max=3, min=-1), Output()), _dom_classes=('widget-int…"
      ]
     },
     "metadata": {},
     "output_type": "display_data"
    },
    {
     "data": {
      "text/plain": [
       "<function __main__.plot_fct(w=1)>"
      ]
     },
     "execution_count": 1,
     "metadata": {},
     "output_type": "execute_result"
    }
   ],
   "source": [
    "import ipywidgets \n",
    "import numpy as np \n",
    "import matplotlib.pyplot as plt\n",
    "\n",
    "def plot_fct(w=1):\n",
    "    X = np.random.uniform(0, 5, size=100)\n",
    "    y = 2 * X + w * np.random.normal (size=100)\n",
    "    plt.scatter (X, y)\n",
    "ipywidgets. interact (plot_fct, W=(0, 5, 0.5))\n",
    "    "
   ]
  },
  {
   "cell_type": "code",
   "execution_count": null,
   "id": "2d6a054b-1993-47c3-8df7-c334b7827eef",
   "metadata": {},
   "outputs": [],
   "source": []
  },
  {
   "cell_type": "code",
   "execution_count": null,
   "id": "349b14ca-3107-4769-a415-09ee7524cb4a",
   "metadata": {},
   "outputs": [],
   "source": []
  }
 ],
 "metadata": {
  "kernelspec": {
   "display_name": "Python 3 (ipykernel)",
   "language": "python",
   "name": "python3"
  },
  "language_info": {
   "codemirror_mode": {
    "name": "ipython",
    "version": 3
   },
   "file_extension": ".py",
   "mimetype": "text/x-python",
   "name": "python",
   "nbconvert_exporter": "python",
   "pygments_lexer": "ipython3",
   "version": "3.11.8"
  }
 },
 "nbformat": 4,
 "nbformat_minor": 5
}
