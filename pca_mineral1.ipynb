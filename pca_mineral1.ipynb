{
 "cells": [
  {
   "cell_type": "markdown",
   "id": "8b3c37f3-e54d-4079-b075-53f004756042",
   "metadata": {},
   "source": [
    "## Load required modules."
   ]
  },
  {
   "cell_type": "markdown",
   "id": "5cae33bf-9a31-4c7d-b92f-64c25f514d25",
   "metadata": {},
   "source": [
    "TODO: Select according to shape. For example, exclude intrusions."
   ]
  },
  {
   "cell_type": "code",
   "execution_count": 1,
   "id": "274b92cd-2a3a-4280-bd7a-95892ab3a9ed",
   "metadata": {
    "tags": []
   },
   "outputs": [],
   "source": [
    "%matplotlib widget\n",
    "# Import ncessary modules.\n",
    "from sklearn.decomposition import PCA\n",
    "import xlrd\n",
    "import pandas as pd\n",
    "import numpy as np\n",
    "import seaborn as sns\n",
    "import matplotlib.pyplot as plt\n",
    "from sklearn.cluster import KMeans\n",
    "from sklearn.preprocessing import StandardScaler\n"
   ]
  },
  {
   "cell_type": "markdown",
   "id": "753c6cba-363d-458c-a7f4-83ac34461f8c",
   "metadata": {},
   "source": [
    "## Read EXCEL data file into data frame."
   ]
  },
  {
   "cell_type": "code",
   "execution_count": 2,
   "id": "ab41bd6c-7c34-4c1d-9b54-b1d0ba9f8760",
   "metadata": {
    "tags": []
   },
   "outputs": [],
   "source": [
    "# File path to your Excel file.\n",
    "file_path = 'Geochemistry Results-AGG reduced variables.xlsx'\n",
    "\n",
    "# Define the sheet name to read.\n",
    "sheet_name = 'Litogeochemistry - clean'\n",
    "\n",
    "# Read only two columns \"Th_ppm\" and \"U_ppm\".\n",
    "df = pd.read_excel(file_path, sheet_name=sheet_name)\n",
    "maxzn = df.iloc[:, 63].max()\n"
   ]
  },
  {
   "cell_type": "code",
   "execution_count": 3,
   "id": "90912469-29bd-40ae-b617-34d6d70150ed",
   "metadata": {
    "tags": []
   },
   "outputs": [
    {
     "data": {
      "text/html": [
       "<div>\n",
       "<style scoped>\n",
       "    .dataframe tbody tr th:only-of-type {\n",
       "        vertical-align: middle;\n",
       "    }\n",
       "\n",
       "    .dataframe tbody tr th {\n",
       "        vertical-align: top;\n",
       "    }\n",
       "\n",
       "    .dataframe thead th {\n",
       "        text-align: right;\n",
       "    }\n",
       "</style>\n",
       "<table border=\"1\" class=\"dataframe\">\n",
       "  <thead>\n",
       "    <tr style=\"text-align: right;\">\n",
       "      <th></th>\n",
       "      <th>Sample Description</th>\n",
       "      <th>Year</th>\n",
       "      <th>Depth(meters)</th>\n",
       "      <th>Lithology</th>\n",
       "      <th>Shape</th>\n",
       "      <th>Comment</th>\n",
       "      <th>PTS</th>\n",
       "      <th>Al2O3_pct</th>\n",
       "      <th>BaO_pct</th>\n",
       "      <th>CaO_pct</th>\n",
       "      <th>...</th>\n",
       "      <th>Cd_ppm</th>\n",
       "      <th>Co_ppm</th>\n",
       "      <th>Cu_ppm</th>\n",
       "      <th>Li_ppm</th>\n",
       "      <th>Mo_ppm</th>\n",
       "      <th>Ni_ppm</th>\n",
       "      <th>Pb_ppm</th>\n",
       "      <th>Zn_ppm</th>\n",
       "      <th>C_pct</th>\n",
       "      <th>S_pct</th>\n",
       "    </tr>\n",
       "  </thead>\n",
       "  <tbody>\n",
       "    <tr>\n",
       "      <th>0</th>\n",
       "      <td>S10-01</td>\n",
       "      <td>2022</td>\n",
       "      <td>4.44</td>\n",
       "      <td>Di-Tr dolomitic marble</td>\n",
       "      <td>Marble Units</td>\n",
       "      <td>NaN</td>\n",
       "      <td>No</td>\n",
       "      <td>0.73</td>\n",
       "      <td>0.02</td>\n",
       "      <td>26.7</td>\n",
       "      <td>...</td>\n",
       "      <td>0.25</td>\n",
       "      <td>4.0</td>\n",
       "      <td>10</td>\n",
       "      <td>20</td>\n",
       "      <td>1.0</td>\n",
       "      <td>6.0</td>\n",
       "      <td>4</td>\n",
       "      <td>27</td>\n",
       "      <td>7.22</td>\n",
       "      <td>0.23</td>\n",
       "    </tr>\n",
       "    <tr>\n",
       "      <th>1</th>\n",
       "      <td>S10-02</td>\n",
       "      <td>2022</td>\n",
       "      <td>14.49</td>\n",
       "      <td>Dolomitic marble</td>\n",
       "      <td>Marble Units</td>\n",
       "      <td>NaN</td>\n",
       "      <td>No</td>\n",
       "      <td>0.68</td>\n",
       "      <td>0.08</td>\n",
       "      <td>30.3</td>\n",
       "      <td>...</td>\n",
       "      <td>0.25</td>\n",
       "      <td>2.0</td>\n",
       "      <td>9</td>\n",
       "      <td>20</td>\n",
       "      <td>1.0</td>\n",
       "      <td>5.0</td>\n",
       "      <td>6</td>\n",
       "      <td>22</td>\n",
       "      <td>9.99</td>\n",
       "      <td>0.75</td>\n",
       "    </tr>\n",
       "    <tr>\n",
       "      <th>2</th>\n",
       "      <td>S10-03</td>\n",
       "      <td>2022</td>\n",
       "      <td>15.74</td>\n",
       "      <td>Dolomitic marble</td>\n",
       "      <td>Marble Units</td>\n",
       "      <td>NaN</td>\n",
       "      <td>No</td>\n",
       "      <td>0.56</td>\n",
       "      <td>0.01</td>\n",
       "      <td>29.4</td>\n",
       "      <td>...</td>\n",
       "      <td>0.25</td>\n",
       "      <td>1.0</td>\n",
       "      <td>5</td>\n",
       "      <td>10</td>\n",
       "      <td>1.0</td>\n",
       "      <td>4.0</td>\n",
       "      <td>3</td>\n",
       "      <td>23</td>\n",
       "      <td>10.55</td>\n",
       "      <td>0.58</td>\n",
       "    </tr>\n",
       "    <tr>\n",
       "      <th>3</th>\n",
       "      <td>S10-04</td>\n",
       "      <td>2022</td>\n",
       "      <td>26.80</td>\n",
       "      <td>Calcitic marble</td>\n",
       "      <td>Marble Units</td>\n",
       "      <td>NaN</td>\n",
       "      <td>Yes</td>\n",
       "      <td>0.92</td>\n",
       "      <td>0.04</td>\n",
       "      <td>37.0</td>\n",
       "      <td>...</td>\n",
       "      <td>0.25</td>\n",
       "      <td>0.5</td>\n",
       "      <td>4</td>\n",
       "      <td>20</td>\n",
       "      <td>1.0</td>\n",
       "      <td>3.0</td>\n",
       "      <td>10</td>\n",
       "      <td>31</td>\n",
       "      <td>7.76</td>\n",
       "      <td>0.26</td>\n",
       "    </tr>\n",
       "    <tr>\n",
       "      <th>4</th>\n",
       "      <td>S10-05</td>\n",
       "      <td>2022</td>\n",
       "      <td>27.02</td>\n",
       "      <td>Calcitic marble</td>\n",
       "      <td>Marble Units</td>\n",
       "      <td>NaN</td>\n",
       "      <td>Yes</td>\n",
       "      <td>3.18</td>\n",
       "      <td>0.08</td>\n",
       "      <td>35.4</td>\n",
       "      <td>...</td>\n",
       "      <td>0.25</td>\n",
       "      <td>3.0</td>\n",
       "      <td>9</td>\n",
       "      <td>10</td>\n",
       "      <td>1.0</td>\n",
       "      <td>7.0</td>\n",
       "      <td>4</td>\n",
       "      <td>13</td>\n",
       "      <td>7.79</td>\n",
       "      <td>1.22</td>\n",
       "    </tr>\n",
       "  </tbody>\n",
       "</table>\n",
       "<p>5 rows × 66 columns</p>\n",
       "</div>"
      ],
      "text/plain": [
       "  Sample Description  Year  Depth(meters)               Lithology  \\\n",
       "0             S10-01  2022           4.44  Di-Tr dolomitic marble   \n",
       "1             S10-02  2022          14.49        Dolomitic marble   \n",
       "2             S10-03  2022          15.74        Dolomitic marble   \n",
       "3             S10-04  2022          26.80         Calcitic marble   \n",
       "4             S10-05  2022          27.02         Calcitic marble   \n",
       "\n",
       "          Shape Comment  PTS  Al2O3_pct  BaO_pct  CaO_pct  ...  Cd_ppm  \\\n",
       "0  Marble Units     NaN   No       0.73     0.02     26.7  ...    0.25   \n",
       "1  Marble Units     NaN   No       0.68     0.08     30.3  ...    0.25   \n",
       "2  Marble Units     NaN   No       0.56     0.01     29.4  ...    0.25   \n",
       "3  Marble Units     NaN  Yes       0.92     0.04     37.0  ...    0.25   \n",
       "4  Marble Units     NaN  Yes       3.18     0.08     35.4  ...    0.25   \n",
       "\n",
       "   Co_ppm  Cu_ppm  Li_ppm  Mo_ppm  Ni_ppm  Pb_ppm  Zn_ppm  C_pct  S_pct  \n",
       "0     4.0      10      20     1.0     6.0       4      27   7.22   0.23  \n",
       "1     2.0       9      20     1.0     5.0       6      22   9.99   0.75  \n",
       "2     1.0       5      10     1.0     4.0       3      23  10.55   0.58  \n",
       "3     0.5       4      20     1.0     3.0      10      31   7.76   0.26  \n",
       "4     3.0       9      10     1.0     7.0       4      13   7.79   1.22  \n",
       "\n",
       "[5 rows x 66 columns]"
      ]
     },
     "execution_count": 3,
     "metadata": {},
     "output_type": "execute_result"
    }
   ],
   "source": [
    "df.head()"
   ]
  },
  {
   "cell_type": "code",
   "execution_count": 4,
   "id": "bc85f855-b753-4d9d-a8e1-220abf285832",
   "metadata": {
    "tags": []
   },
   "outputs": [
    {
     "data": {
      "text/plain": [
       "(103, 66)"
      ]
     },
     "execution_count": 4,
     "metadata": {},
     "output_type": "execute_result"
    }
   ],
   "source": [
    "df.shape"
   ]
  },
  {
   "cell_type": "markdown",
   "id": "84043f8a-1918-40c9-b070-3c3cbac5c1a4",
   "metadata": {},
   "source": [
    "## Remove symbols \"<\" and \"NaN\"."
   ]
  },
  {
   "cell_type": "code",
   "execution_count": null,
   "id": "7ea448dd-13d3-4ed2-b176-072d6884b73a",
   "metadata": {
    "tags": []
   },
   "outputs": [],
   "source": [
    "df = df.iloc[: , 7:]\n",
    "df=df.replace('\\<','',regex=True).astype(float)\n",
    "df = df[np.isfinite(df).all(1)]\n",
    "df = df.dropna()\n",
    "df.head()"
   ]
  },
  {
   "cell_type": "code",
   "execution_count": null,
   "id": "f8a1cff3-4538-4d9f-8aae-9096646f23d5",
   "metadata": {},
   "outputs": [],
   "source": [
    "df.shape"
   ]
  },
  {
   "cell_type": "markdown",
   "id": "a873a8e1-74e4-45d7-b7df-951bb2c77452",
   "metadata": {},
   "source": [
    "## Scale data and apply PCA."
   ]
  },
  {
   "cell_type": "code",
   "execution_count": null,
   "id": "2b462ed2-4c6b-47cc-806e-6bcef9c11bd5",
   "metadata": {
    "tags": []
   },
   "outputs": [],
   "source": [
    "# Scale data before applying PCA\n",
    "scaling=StandardScaler()\n",
    " \n",
    "# Use fit and transform method \n",
    "scaling.fit(df)\n",
    "Scaled_data=scaling.transform(df)\n",
    " \n",
    "# Set the n_components=3\n",
    "pca=PCA(n_components=3)\n",
    "pca.fit(Scaled_data)\n",
    "x=pca.transform(Scaled_data)\n",
    " \n",
    "# Check the dimensions of data after PCA\n",
    "print(x.shape)"
   ]
  },
  {
   "cell_type": "markdown",
   "id": "84e2fae2-b9de-4267-a8d2-61b782a1f90d",
   "metadata": {},
   "source": [
    "## Create a datafram for PCA componenets and scale it."
   ]
  },
  {
   "cell_type": "code",
   "execution_count": null,
   "id": "2cdec71c-daaa-4bb4-98d0-90de73e01821",
   "metadata": {},
   "outputs": [],
   "source": [
    "# Create dataframe\n",
    "pca_df = pd.DataFrame(\n",
    "    data=x, \n",
    "    #columns=['PC1', 'PC2', 'PC3'])\n",
    "    columns=['PC'+str(i) for i in range(1, len(pca.components_)+1)])\n",
    "pca_df"
   ]
  },
  {
   "cell_type": "code",
   "execution_count": null,
   "id": "77808487-d8d7-4414-9980-7e9a228649fc",
   "metadata": {},
   "outputs": [],
   "source": [
    "# Create the scaled PCA dataframe\n",
    "pca_df_scaled = pca_df.copy()\n",
    "  \n",
    "scaler_df = pca_df[['PC1', 'PC2', 'PC3']]\n",
    "scaler = 1 / (scaler_df.max() - scaler_df.min())\n",
    "for index in scaler.index:\n",
    "    pca_df_scaled[index] *= scaler[index]"
   ]
  },
  {
   "cell_type": "markdown",
   "id": "f31a11f5-625f-4180-8d44-bfca2e699600",
   "metadata": {},
   "source": [
    "## Display loadings."
   ]
  },
  {
   "cell_type": "code",
   "execution_count": null,
   "id": "118b92a0-9ed3-4278-8140-aadbe6903961",
   "metadata": {},
   "outputs": [],
   "source": [
    "#loadings = pd.DataFrame(pca.components_.T, columns=['PC1', 'PC2', 'PC3'], index=df.columns)\n",
    "loadings = pd.DataFrame(pca.components_.T, columns=['PC'+str(i) for i in range(1, len(pca.components_)+1)], index=df.columns)\n",
    "loadings"
   ]
  },
  {
   "cell_type": "markdown",
   "id": "3771ee57-777b-4626-a895-4ad6614b6b46",
   "metadata": {},
   "source": [
    "## Display sorted loadings."
   ]
  },
  {
   "cell_type": "code",
   "execution_count": null,
   "id": "de8249fa-a790-47e8-a179-d8b43cf50311",
   "metadata": {},
   "outputs": [],
   "source": [
    "sorted_loadings = loadings.sort_values(by='PC1', ascending=False)  # Change 'ascending' as needed\n",
    "sorted_loadings"
   ]
  },
  {
   "cell_type": "code",
   "execution_count": null,
   "id": "42c67af6-d5c6-4774-b7b3-fbdea099aa21",
   "metadata": {},
   "outputs": [],
   "source": [
    "sorted_loadings = loadings.sort_values(by='PC2', ascending=False)  # Change 'ascending' as needed\n",
    "sorted_loadings"
   ]
  },
  {
   "cell_type": "code",
   "execution_count": null,
   "id": "52319eca-952a-4ae9-ae01-ff110680e0c2",
   "metadata": {},
   "outputs": [],
   "source": [
    "sorted_loadings = loadings.sort_values(by='PC3', ascending=False)  # Change 'ascending' as needed\n",
    "sorted_loadings"
   ]
  },
  {
   "cell_type": "markdown",
   "id": "4e06e1a2-3617-4cd7-b914-a1fb257a3872",
   "metadata": {},
   "source": [
    "## Plot a 3D scatter plot with arrows for PCA directions."
   ]
  },
  {
   "cell_type": "code",
   "execution_count": null,
   "id": "aa630879-4378-46e6-8304-f974bc68de32",
   "metadata": {},
   "outputs": [],
   "source": [
    "import pandas as pd\n",
    "\n",
    "# File path to your Excel file.\n",
    "file_path = 'Geochemistry Results-AGG reduced variables.xlsx'\n",
    "\n",
    "# Define the sheet name to read.\n",
    "sheet_name = 'Litogeochemistry - clean'\n",
    "\n",
    "# Read only the 3rd column.\n",
    "dc = pd.read_excel(file_path, sheet_name=sheet_name, usecols=[3])\n",
    "\n",
    "dc = dc.rename(columns={dc.columns[0]: 'Lithology'})\n",
    "\n",
    "color_map = {\n",
    "    'Calcitic marble': 'lime',\n",
    "    'Dolomitic marble': 'blue',\n",
    "    'Di-Tr dolomitic marble': 'cyan',\n",
    "    'Carbonatite': 'deeppink',\n",
    "    'Carbonatite-like': 'pink',\n",
    "    'Syenite': 'black',\n",
    "    'Altered Syenite': 'black',\n",
    "    'Syenite-like': 'black',\n",
    "    'Impure Siliciclastic': 'grey',\n",
    "    'Pure Siliciclastic': 'lightgrey'\n",
    "}\n",
    "\n",
    "dc['Color'] = dc['Lithology'].map(color_map)\n",
    "#dc[dc.columns[0]] = dc[dc.columns[0]].map(color_map)\n",
    "\n",
    "dc=dc.replace('\\<','NaN',regex=True)\n",
    "dc = dc[np.isfinite(df).all(1)]\n",
    "dc = dc.dropna()\n",
    "\n",
    "print(dc)\n",
    "print (pca_df_scaled)\n",
    "print(\"Shape of y:\", dc.shape)\n",
    "#print(\"Shape of X:\", X.shape)\n"
   ]
  },
  {
   "cell_type": "code",
   "execution_count": null,
   "id": "8ea8144e-ae40-4f20-a211-c847afae19d1",
   "metadata": {},
   "outputs": [],
   "source": [
    "import pandas as pd\n",
    "\n",
    "# File path to your Excel file.\n",
    "file_path = 'Geochemistry Results-AGG reduced variables.xlsx'\n",
    "\n",
    "# Define the sheet name to read.\n",
    "sheet_name = 'Litogeochemistry - clean'\n",
    "\n",
    "# Read only the 3rd column.\n",
    "ds = pd.read_excel(file_path, sheet_name=sheet_name, usecols=[4])\n",
    "\n",
    "ds = ds.rename(columns={ds.columns[0]: 'Shape'})\n",
    "\n",
    "color_map1 = {\n",
    "    'Marble Units': \"^\",\n",
    "    'Altered Intrusion': \"*\",\n",
    "    'Siliciclastic': \"o\",\n",
    "    'Intrusion': \"s\",\n",
    "    'Anamolous Rock': \"D\",\n",
    "}\n",
    "\n",
    "ds[\"Shapes\"] = ds[\"Shape\"].map(color_map1)\n",
    "#dc[dc.columns[0]] = dc[dc.columns[0]].map(color_map)\n",
    "\n",
    "ds=ds.replace('\\<','NaN',regex=True)\n",
    "ds = ds[np.isfinite(df).all(1)]\n",
    "ds = ds.dropna()\n",
    "\n",
    "print(ds)\n",
    "#print (pca_df_scaled)\n",
    "print(\"Shape of y:\", ds.shape)\n",
    "#print(\"Shape of X:\", X.shape)\n"
   ]
  },
  {
   "cell_type": "code",
   "execution_count": null,
   "id": "2a89fcbd-ec28-4176-bd55-ae93646bcf02",
   "metadata": {},
   "outputs": [],
   "source": [
    "\n",
    "# Initialize the 3D graph\n",
    "fig = plt.figure()\n",
    "ax = fig.add_subplot(111, projection='3d')\n",
    "  \n",
    "# Define scaled features as arrays\n",
    "xdata = pca_df_scaled['PC1']\n",
    "ydata = pca_df_scaled['PC2']\n",
    "zdata = pca_df_scaled['PC3']\n",
    "\n",
    "# This will be used to color the scatter plot.\n",
    "#color_name='Zn_ppm'\n",
    "#colors = dc['Color']\n",
    "\n",
    "# Plot 3D scatterplot of PCA\n",
    "for i in range (len(df)):\n",
    "    p=ax.scatter3D(\n",
    "         xdata[i], \n",
    "         ydata[i], \n",
    "         zdata[i], \n",
    "         c= dc['Color'][i],\n",
    "         marker= ds[\"Shapes\"][i],\n",
    "    \n",
    "    #c=zdata, \n",
    "    #cmap='Greens', \n",
    "    #alpha=0.5\n",
    ")\n",
    "\n",
    "#legend\n",
    "for lithology, color in color_map.items():\n",
    "    ax.scatter([], [], c=color, label=lithology)\n",
    "ax.legend(loc=('best'), bbox_to_anchor=(0.15, 0.35), title='Lithology', fontsize='x-small')\n",
    "plt.show()\n",
    "\n",
    "\n",
    "\n",
    "# Arrows will be displayed for the following.\n",
    "show_names=df.columns.tolist()\n",
    "#['Zn_ppm', 'C_pct', 'S_pct']\n",
    "indx=df.columns.get_indexer(show_names)\n",
    "scale=2\n",
    "\n",
    "# Define the x, y, z variables\n",
    "loadings = pca.components_\n",
    "xs = scale*loadings[0]\n",
    "ys = scale*loadings[1]\n",
    "zs = scale*loadings[2]\n",
    "\n",
    "# Plot the loadings\n",
    "for i , names in enumerate(show_names):\n",
    "    ip=indx[i]\n",
    "    #ax.scatter(xs[ip], ys[ip], zs[ip], s=100)\n",
    "    ax.text(\n",
    "        #reduced distance from 0.1 to 0.05 for better visualbility\n",
    "         xs[ip] + 0.05, \n",
    "         ys[ip] + 0.05, \n",
    "         zs[ip] + 0.05, \n",
    "         names)\n",
    "  \n",
    "# Plot the arrows\n",
    "x_arr = np.zeros(len(loadings[0]))\n",
    "y_arr = z_arr = x_arr\n",
    "# Plot specific arrow\n",
    "#indx=df.columns.get_loc(\"Zn_ppm\")\n",
    "\n",
    "ax.quiver(x_arr[indx], y_arr[indx], z_arr[indx], xs[indx], ys[indx], zs[indx],color='r')\n",
    "\n",
    "#for i, name in enumerate(df.columns):\n",
    "    #ip = df.columns.get_loc(name)\n",
    "    #ax.quiver(x_arr[ip], y_arr[ip], z_arr[ip], xs[ip], ys[ip], zs[ip], color='r')\n",
    "  \n",
    "# Plot title of graph\n",
    "plt.title(f'3D Biplot')\n",
    "  \n",
    "# Plot x, y, z labels\n",
    "ax.set_xlabel('PC1')#, rotation=150)\n",
    "ax.set_ylabel('PC2')\n",
    "ax.set_zlabel('PC3')#, rotation=60)\n",
    "plt.savefig('3D_biplot.svg')\n"
   ]
  },
  {
   "cell_type": "code",
   "execution_count": null,
   "id": "1fd54bc6-f9cd-4d0c-887f-1724db365a80",
   "metadata": {},
   "outputs": [],
   "source": [
    "from sklearn.svm import SVC\n",
    "from sklearn.pipeline import make_pipeline\n",
    "y = dc['Lithology']\n",
    "y = y.values.ravel()\n",
    "X = pca_df_scaled\n",
    "print(\"Shape of y:\", y.shape)\n",
    "print(\"Shape of X:\", X.shape)\n",
    "\n",
    "clf = make_pipeline(StandardScaler(), SVC(gamma='auto'))\n",
    "clf.fit(X, y)\n",
    "\n",
    "print(clf.predict([[0.3, -0.01, 0.1]]))"
   ]
  },
  {
   "cell_type": "code",
   "execution_count": null,
   "id": "a8670551-7e43-41ef-a119-3243fb2782b2",
   "metadata": {
    "tags": []
   },
   "outputs": [],
   "source": [
    "plt.figure(figsize=(10,10))\n",
    "#plt.scatter(x[:,0],x[:,1],c=data['target'],cmap='plasma')\n",
    "plt.scatter(x[:,0],x[:,1],c=df['Zn_ppm'],cmap='plasma')\n",
    "\n",
    "## Plot the arrows\n",
    "#x_arr = np.zeros(len(loadings[0]))\n",
    "#y_arr = z_arr = x_arr\n",
    "#plt.quiver(x_arr, y_arr, z_arr, xs, ys, zs)\n",
    "\n",
    "plt.xlabel('pc1')\n",
    "plt.ylabel('pc2')\n",
    "plt.colorbar()"
   ]
  },
  {
   "cell_type": "code",
   "execution_count": null,
   "id": "2ed6b4b0-41a1-4a38-8274-de322ef74c35",
   "metadata": {
    "tags": []
   },
   "outputs": [],
   "source": [
    "# import relevant libraries for 3d graph\n",
    "from mpl_toolkits.mplot3d import Axes3D\n",
    "fig = plt.figure(figsize=(10,10))\n",
    " \n",
    "# choose projection 3d for creating a 3d graph\n",
    "axis = fig.add_subplot(111, projection='3d')\n",
    " \n",
    "# x[:,0]is pc1,x[:,1] is pc2 while x[:,2] is pc3\n",
    "img=axis.scatter(x[:,0],x[:,1],x[:,2], c=df['Zn_ppm'])\n",
    "\n",
    "# Plot the loadings\n",
    "for i in range(2):\n",
    "    axis.scatter(xs[i], ys[i], zs[i], s=200)\n",
    "    #axis.text(\n",
    "    #    xs[i] + 0.1, \n",
    "    #    ys[i] + 0.1, \n",
    "    #    zs[i] + 0.1, \n",
    "    #    varnames)\n",
    "  \n",
    "# Plot the arrows\n",
    "x_arr = np.zeros(len(loadings[0]))\n",
    "y_arr = z_arr = x_arr\n",
    "axis.quiver(x_arr, y_arr, z_arr, xs, ys, zs)\n",
    "\n",
    "axis.set_xlabel(\"PC1\")\n",
    "axis.set_ylabel(\"PC2\")\n",
    "axis.set_zlabel(\"PC3\")\n",
    "fig.colorbar(img)"
   ]
  },
  {
   "cell_type": "code",
   "execution_count": null,
   "id": "c1dcbedc-8fcb-4cd7-91e6-619bb2c23151",
   "metadata": {
    "tags": []
   },
   "outputs": [],
   "source": [
    "# Remove all rows that have at least one NaN.\n",
    "df = df.dropna()\n",
    "\n",
    "# Remove \"<\" from the values.\n",
    "df['Th_ppm'] = df['Th_ppm'].apply(lambda x: x.replace('<', '') if isinstance(x, str) and '<' in x else x)\n",
    "df['U_ppm'] = df['U_ppm'].apply(lambda x: x.replace('<', '') if isinstance(x, str) and '<' in x else x)\n",
    "\n",
    "# Change to \"object\" to \"float\".\n",
    "df['Th_ppm'] = df['Th_ppm'].astype(float)\n",
    "df['U_ppm'] = df['U_ppm'].astype(float)"
   ]
  },
  {
   "cell_type": "code",
   "execution_count": null,
   "id": "45da177a-f9e3-4dd0-845e-b52ee940e3df",
   "metadata": {
    "tags": []
   },
   "outputs": [],
   "source": [
    "# Set the data for clustering\n",
    "X = df[['Th_ppm', 'U_ppm']].values\n",
    "\n",
    "# Choose the number of clusters (k)\n",
    "k = 3\n",
    "\n",
    "# Initialize and fit the KMeans model\n",
    "kmeans = KMeans(n_clusters=k)\n",
    "kmeans.fit(X)\n",
    "\n",
    "# Add cluster labels to the DataFrame\n",
    "df['cluster'] = kmeans.labels_"
   ]
  },
  {
   "cell_type": "code",
   "execution_count": null,
   "id": "79d7fe2c-5eed-4d5f-a3e7-1cb5a5a4a9f2",
   "metadata": {
    "tags": []
   },
   "outputs": [],
   "source": [
    "# Scatter plot with the centroids.\n",
    "sns.scatterplot(data=df, x=\"Th_ppm\", y=\"U_ppm\", hue=kmeans.labels_)\n",
    "plt.scatter(kmeans.cluster_centers_[:,0], kmeans.cluster_centers_[:,1], \n",
    "            marker=\"X\", c=\"r\", s=80, label=\"centroids\")\n",
    "plt.legend()\n",
    "plt.show()"
   ]
  },
  {
   "cell_type": "code",
   "execution_count": null,
   "id": "d06e41c4-2bff-4b77-9116-8068bc49aa86",
   "metadata": {
    "tags": []
   },
   "outputs": [],
   "source": [
    "# Plot the distortion score elbow.\n",
    "from yellowbrick.cluster import KElbowVisualizer\n",
    "model = KMeans()\n",
    "visualizer = KElbowVisualizer(model, k=(1,12)).fit(df)\n",
    "visualizer.show()"
   ]
  },
  {
   "cell_type": "code",
   "execution_count": null,
   "id": "f50a49ce-7688-4080-b1cb-86c9521d7ec2",
   "metadata": {},
   "outputs": [],
   "source": []
  },
  {
   "cell_type": "code",
   "execution_count": null,
   "id": "a78fff79-e972-4b07-afbc-dbbc8e0cbe13",
   "metadata": {},
   "outputs": [],
   "source": [
    "#import the breast _cancer dataset\n",
    "from sklearn.datasets import load_breast_cancer\n",
    "data=load_breast_cancer()\n",
    "data.keys()\n",
    " \n",
    "# Check the output classes\n",
    "print(data['target_names'])\n",
    " \n",
    "# Check the input attributes\n",
    "print(data['feature_names'])"
   ]
  },
  {
   "cell_type": "code",
   "execution_count": null,
   "id": "8d279777-ef82-4a48-b276-90906f30bd23",
   "metadata": {
    "tags": []
   },
   "outputs": [],
   "source": [
    "# construct a dataframe using pandas\n",
    "df1=pd.DataFrame(data['data'],columns=data['feature_names'])"
   ]
  },
  {
   "cell_type": "code",
   "execution_count": null,
   "id": "d337a90e-87c9-407f-9bcb-5ef4704a6248",
   "metadata": {
    "tags": []
   },
   "outputs": [],
   "source": [
    "df1.head()"
   ]
  },
  {
   "cell_type": "code",
   "execution_count": null,
   "id": "b2bac11a-c850-475d-865f-4c0c219c9ef7",
   "metadata": {
    "tags": []
   },
   "outputs": [],
   "source": [
    "data"
   ]
  },
  {
   "cell_type": "code",
   "execution_count": null,
   "id": "6da2ef4b-11b4-4c78-bb0a-c77f10655e56",
   "metadata": {},
   "outputs": [],
   "source": [
    "a=[{'T1'},{'T2}]"
   ]
  },
  {
   "cell_type": "code",
   "execution_count": null,
   "id": "6097b947-a171-42e4-b30f-366e56a38e7c",
   "metadata": {},
   "outputs": [],
   "source": []
  },
  {
   "cell_type": "code",
   "execution_count": null,
   "id": "92832520-5438-43c4-ba1b-08dcbc0b9d27",
   "metadata": {},
   "outputs": [],
   "source": []
  }
 ],
 "metadata": {
  "kernelspec": {
   "display_name": "Python 3 (ipykernel)",
   "language": "python",
   "name": "python3"
  },
  "language_info": {
   "codemirror_mode": {
    "name": "ipython",
    "version": 3
   },
   "file_extension": ".py",
   "mimetype": "text/x-python",
   "name": "python",
   "nbconvert_exporter": "python",
   "pygments_lexer": "ipython3",
   "version": "3.11.8"
  }
 },
 "nbformat": 4,
 "nbformat_minor": 5
}
