{
 "cells": [
  {
   "cell_type": "markdown",
   "id": "8b3c37f3-e54d-4079-b075-53f004756042",
   "metadata": {},
   "source": [
    "## Load required modules."
   ]
  },
  {
   "cell_type": "code",
   "execution_count": 1,
   "id": "274b92cd-2a3a-4280-bd7a-95892ab3a9ed",
   "metadata": {
    "tags": []
   },
   "outputs": [],
   "source": [
    "%matplotlib widget\n",
    "# Import ncessary modules.\n",
    "from sklearn.decomposition import PCA\n",
    "import xlrd\n",
    "import pandas as pd\n",
    "import numpy as np\n",
    "import seaborn as sns\n",
    "import matplotlib.pyplot as plt\n",
    "from sklearn.cluster import KMeans\n",
    "from sklearn.preprocessing import StandardScaler\n",
    "import ipywidgets \n",
    "from ipywidgets import interact \n",
    "import ipywidgets as widgets\n",
    "from matplotlib import pyplot\n",
    "from IPython.display import display, clear_output\n",
    "\n",
    "\n"
   ]
  },
  {
   "cell_type": "markdown",
   "id": "753c6cba-363d-458c-a7f4-83ac34461f8c",
   "metadata": {},
   "source": [
    "## Read EXCEL data file into data frame."
   ]
  },
  {
   "cell_type": "code",
   "execution_count": 2,
   "id": "ab41bd6c-7c34-4c1d-9b54-b1d0ba9f8760",
   "metadata": {
    "tags": []
   },
   "outputs": [
    {
     "data": {
      "application/vnd.jupyter.widget-view+json": {
       "model_id": "f75adc9c3bab49bab13988cd8a40920b",
       "version_major": 2,
       "version_minor": 0
      },
      "text/plain": [
       "SelectMultiple(options=('all', 'Calcitic marble', 'Dolomitic marble', 'Di-tr dolomitic marble', 'Carbonatite',…"
      ]
     },
     "metadata": {},
     "output_type": "display_data"
    },
    {
     "data": {
      "application/vnd.jupyter.widget-view+json": {
       "model_id": "5a10e9903e17449183151464145f017f",
       "version_major": 2,
       "version_minor": 0
      },
      "text/plain": [
       "Output()"
      ]
     },
     "metadata": {},
     "output_type": "display_data"
    },
    {
     "name": "stdin",
     "output_type": "stream",
     "text": [
      "Press Enter to continue... \n"
     ]
    },
    {
     "data": {
      "text/plain": [
       "''"
      ]
     },
     "execution_count": 2,
     "metadata": {},
     "output_type": "execute_result"
    }
   ],
   "source": [
    "# File path to your Excel file.\n",
    "file_path = 'Geochemistry Results-AGG reduced variables.xlsx'\n",
    "\n",
    "# Define the sheet name to read.\n",
    "sheet_name = 'Litogeochemistry - clean'\n",
    "\n",
    "df = pd.read_excel(file_path, sheet_name=sheet_name)\n",
    "\n",
    "lithologies = [\n",
    "    \"Calcitic marble\", \"Dolomitic marble\", \"Di-tr dolomitic marble\",\n",
    "    \"Carbonatite\", \"Carbonatite-like\", \"Syenite\", \"Altered syenite\",\n",
    "    \"Syenite-like\", \"Impure siliciclastic\", \"Pure siliciclastic\"\n",
    "]\n",
    "\n",
    "lithology_dropdown = widgets.SelectMultiple(\n",
    "    options=['all'] + lithologies,\n",
    "    value = []\n",
    ")\n",
    "\n",
    "output = widgets.Output()\n",
    "\n",
    "def filter_dataframe(change):\n",
    "    global filtered_df\n",
    "    selected = change['new']\n",
    "    with output:\n",
    "        clear_output(wait=True)\n",
    "        if 'all' in selected:\n",
    "            display(df)\n",
    "        else:\n",
    "            filtered_df = df[df.iloc[:, 3].isin(selected)]\n",
    "            display(filtered_df)\n",
    "\n",
    "lithology_dropdown.observe(filter_dataframe, 'value')\n",
    "\n",
    "display(lithology_dropdown)\n",
    "display(output)\n",
    "\n",
    "input(\"Press Enter to continue...\")"
   ]
  },
  {
   "cell_type": "code",
   "execution_count": 3,
   "id": "90912469-29bd-40ae-b617-34d6d70150ed",
   "metadata": {
    "tags": []
   },
   "outputs": [
    {
     "name": "stdin",
     "output_type": "stream",
     "text": [
      "Press Enter to continue... \n"
     ]
    },
    {
     "ename": "NameError",
     "evalue": "name 'filtered_df' is not defined",
     "output_type": "error",
     "traceback": [
      "\u001b[0;31m---------------------------------------------------------------------------\u001b[0m",
      "\u001b[0;31mNameError\u001b[0m                                 Traceback (most recent call last)",
      "Cell \u001b[0;32mIn[3], line 2\u001b[0m\n\u001b[1;32m      1\u001b[0m \u001b[38;5;28minput\u001b[39m(\u001b[38;5;124m\"\u001b[39m\u001b[38;5;124mPress Enter to continue...\u001b[39m\u001b[38;5;124m\"\u001b[39m)\n\u001b[0;32m----> 2\u001b[0m filtered_df\u001b[38;5;241m.\u001b[39mhead(\u001b[38;5;124m'\u001b[39m\u001b[38;5;124mnew\u001b[39m\u001b[38;5;124m'\u001b[39m)\n",
      "\u001b[0;31mNameError\u001b[0m: name 'filtered_df' is not defined"
     ]
    }
   ],
   "source": [
    "input(\"Press Enter to continue...\")\n",
    "filtered_df.head('new')"
   ]
  },
  {
   "cell_type": "code",
   "execution_count": null,
   "id": "bc85f855-b753-4d9d-a8e1-220abf285832",
   "metadata": {
    "tags": []
   },
   "outputs": [],
   "source": [
    "filtered_df.shape"
   ]
  },
  {
   "cell_type": "markdown",
   "id": "84043f8a-1918-40c9-b070-3c3cbac5c1a4",
   "metadata": {},
   "source": [
    "## Remove symbols \"<\" and \"NaN\"."
   ]
  },
  {
   "cell_type": "code",
   "execution_count": null,
   "id": "7ea448dd-13d3-4ed2-b176-072d6884b73a",
   "metadata": {
    "tags": []
   },
   "outputs": [],
   "source": [
    "df = filtered_df.iloc[: , 7:]\n",
    "df=df.replace('\\<','',regex=True).astype(float)\n",
    "df = df[np.isfinite(df).all(1)]\n",
    "df = df.dropna()\n",
    "df.head()"
   ]
  },
  {
   "cell_type": "code",
   "execution_count": null,
   "id": "f8a1cff3-4538-4d9f-8aae-9096646f23d5",
   "metadata": {},
   "outputs": [],
   "source": [
    "df.shape"
   ]
  },
  {
   "cell_type": "markdown",
   "id": "a873a8e1-74e4-45d7-b7df-951bb2c77452",
   "metadata": {},
   "source": [
    "## Scale data and apply PCA."
   ]
  },
  {
   "cell_type": "code",
   "execution_count": null,
   "id": "2b462ed2-4c6b-47cc-806e-6bcef9c11bd5",
   "metadata": {
    "tags": []
   },
   "outputs": [],
   "source": [
    "# Scale data before applying PCA\n",
    "scaling=StandardScaler()\n",
    " \n",
    "# Use fit and transform method \n",
    "scaling.fit(df)\n",
    "Scaled_data=scaling.transform(df)\n",
    " \n",
    "# Set the n_components=3\n",
    "pca=PCA(n_components=3)\n",
    "pca.fit(Scaled_data)\n",
    "x=pca.transform(Scaled_data)\n",
    " \n",
    "# Check the dimensions of data after PCA\n",
    "print(x.shape)"
   ]
  },
  {
   "cell_type": "markdown",
   "id": "84e2fae2-b9de-4267-a8d2-61b782a1f90d",
   "metadata": {},
   "source": [
    "## Create a datafram for PCA componenets and scale it."
   ]
  },
  {
   "cell_type": "code",
   "execution_count": null,
   "id": "2cdec71c-daaa-4bb4-98d0-90de73e01821",
   "metadata": {},
   "outputs": [],
   "source": [
    "# Create dataframe\n",
    "pca_df = pd.DataFrame(\n",
    "    data=x, \n",
    "    #columns=['PC1', 'PC2', 'PC3'])\n",
    "    columns=['PC'+str(i) for i in range(1, len(pca.components_)+1)])\n",
    "pca_df"
   ]
  },
  {
   "cell_type": "code",
   "execution_count": null,
   "id": "77808487-d8d7-4414-9980-7e9a228649fc",
   "metadata": {},
   "outputs": [],
   "source": [
    "# Create the scaled PCA dataframe\n",
    "pca_df_scaled = pca_df.copy()\n",
    "  \n",
    "scaler_df = pca_df[['PC1', 'PC2', 'PC3']]\n",
    "scaler = 1 / (scaler_df.max() - scaler_df.min())\n",
    "for index in scaler.index:\n",
    "    pca_df_scaled[index] *= scaler[index]"
   ]
  },
  {
   "cell_type": "markdown",
   "id": "f31a11f5-625f-4180-8d44-bfca2e699600",
   "metadata": {},
   "source": [
    "## Display loadings."
   ]
  },
  {
   "cell_type": "code",
   "execution_count": null,
   "id": "118b92a0-9ed3-4278-8140-aadbe6903961",
   "metadata": {},
   "outputs": [],
   "source": [
    "#loadings = pd.DataFrame(pca.components_.T, columns=['PC1', 'PC2', 'PC3'], index=df.columns)\n",
    "loadings = pd.DataFrame(pca.components_.T, columns=['PC'+str(i) for i in range(1, len(pca.components_)+1)], index=df.columns)\n",
    "loadings"
   ]
  },
  {
   "cell_type": "markdown",
   "id": "3771ee57-777b-4626-a895-4ad6614b6b46",
   "metadata": {},
   "source": [
    "## Display sorted loadings."
   ]
  },
  {
   "cell_type": "code",
   "execution_count": null,
   "id": "de8249fa-a790-47e8-a179-d8b43cf50311",
   "metadata": {},
   "outputs": [],
   "source": [
    "sorted_loadings = loadings.sort_values(by='PC1', ascending=False)  # Change 'ascending' as needed\n",
    "sorted_loadings"
   ]
  },
  {
   "cell_type": "code",
   "execution_count": null,
   "id": "42c67af6-d5c6-4774-b7b3-fbdea099aa21",
   "metadata": {},
   "outputs": [],
   "source": [
    "sorted_loadings = loadings.sort_values(by='PC2', ascending=False)  # Change 'ascending' as needed\n",
    "sorted_loadings"
   ]
  },
  {
   "cell_type": "code",
   "execution_count": null,
   "id": "52319eca-952a-4ae9-ae01-ff110680e0c2",
   "metadata": {},
   "outputs": [],
   "source": [
    "sorted_loadings = loadings.sort_values(by='PC3', ascending=False)  # Change 'ascending' as needed\n",
    "sorted_loadings"
   ]
  },
  {
   "cell_type": "markdown",
   "id": "4e06e1a2-3617-4cd7-b914-a1fb257a3872",
   "metadata": {},
   "source": [
    "## Plot a 3D scatter plot with arrows for PCA directions."
   ]
  },
  {
   "cell_type": "code",
   "execution_count": null,
   "id": "aa630879-4378-46e6-8304-f974bc68de32",
   "metadata": {},
   "outputs": [],
   "source": [
    "import pandas as pd\n",
    "\n",
    "# # File path to your Excel file.\n",
    "# file_path = 'Geochemistry Results-AGG reduced variables.xlsx'\n",
    "\n",
    "# # Define the sheet name to read.\n",
    "# sheet_name = 'Litogeochemistry - clean'\n",
    "\n",
    "# # Read only the 4th column.\n",
    "# dc = pd.read_excel(file_path, sheet_name=sheet_name, usecols=[3])\n",
    "\n",
    "dc = filtered_df['Lithology']\n",
    "\n",
    "dc = dc.to_frame()\n",
    "dc = dc.rename(columns={dc.columns[0]: 'Lithology'})\n",
    "\n",
    "color_map = {\n",
    "    'Calcitic marble': 'lime',\n",
    "    'Dolomitic marble': 'blue',\n",
    "    'Di-Tr dolomitic marble': 'cyan',\n",
    "    'Carbonatite': 'deeppink',\n",
    "    'Carbonatite-like': 'pink',\n",
    "    'Syenite': 'black',\n",
    "    'Altered Syenite': 'black',\n",
    "    'Syenite-like': 'black',\n",
    "    'Impure Siliciclastic': 'grey',\n",
    "    'Pure Siliciclastic': 'lightgrey'\n",
    "}\n",
    "\n",
    "dc['Color'] = dc['Lithology'].map(color_map)\n",
    "#dc[dc.columns[0]] = dc[dc.columns[0]].map(color_map)\n",
    "\n",
    "dc=dc.replace('\\<','NaN',regex=True)\n",
    "dc = dc[np.isfinite(df).all(1)]\n",
    "dc = dc.dropna()\n",
    "\n",
    "print(dc)\n",
    "print (pca_df_scaled)\n",
    "print(\"Shape of y:\", dc.shape)\n",
    "#print(\"Shape of X:\", X.shape)\n"
   ]
  },
  {
   "cell_type": "code",
   "execution_count": null,
   "id": "8ea8144e-ae40-4f20-a211-c847afae19d1",
   "metadata": {},
   "outputs": [],
   "source": [
    "# import pandas as pd\n",
    "\n",
    "# # File path to your Excel file.\n",
    "# file_path = 'Geochemistry Results-AGG reduced variables.xlsx'\n",
    "\n",
    "# # Define the sheet name to read.\n",
    "# sheet_name = 'Litogeochemistry - clean'\n",
    "\n",
    "# # Read only the 3rd column.\n",
    "# ds = pd.read_excel(file_path, sheet_name=sheet_name, usecols=[4])\n",
    "\n",
    "\n",
    "ds = filtered_df.iloc[:, 4]\n",
    "ds = ds.to_frame()\n",
    "ds = ds.rename(columns={ds.columns[0]: 'Shape'})\n",
    "\n",
    "color_map1 = {\n",
    "    'Marble Units': \"^\",\n",
    "    'Altered Intrusion': \"*\",\n",
    "    'Siliciclastic': \"o\",\n",
    "    'Intrusion': \"s\",\n",
    "    'Anamolous Rock': \"D\",\n",
    "}\n",
    "\n",
    "ds[\"Shapes\"] = ds[\"Shape\"].map(color_map1)\n",
    "#dc[dc.columns[0]] = dc[dc.columns[0]].map(color_map)\n",
    "\n",
    "ds=ds.replace('\\<','NaN',regex=True)\n",
    "ds = ds[np.isfinite(df).all(1)]\n",
    "ds = ds.dropna()\n",
    "\n",
    "print(ds)\n",
    "#print (pca_df_scaled)\n",
    "print(\"Shape of y:\", ds.shape)\n",
    "#print(\"Shape of X:\", X.shape)\n"
   ]
  },
  {
   "cell_type": "code",
   "execution_count": null,
   "id": "77ce413b-20e4-4972-bbc8-0f1126115638",
   "metadata": {},
   "outputs": [],
   "source": []
  },
  {
   "cell_type": "code",
   "execution_count": null,
   "id": "2a89fcbd-ec28-4176-bd55-ae93646bcf02",
   "metadata": {},
   "outputs": [],
   "source": [
    "\n",
    "# Initialize the 3D graph\n",
    "fig = plt.figure(figsize=(9, 9))\n",
    "ax = fig.add_subplot(111, projection='3d')\n",
    "  \n",
    "# Define scaled features as arrays\n",
    "xdata = pca_df_scaled['PC1']\n",
    "ydata = pca_df_scaled['PC2']\n",
    "zdata = pca_df_scaled['PC3']\n",
    "\n",
    "\n",
    "\n",
    "# Plot 3D scatterplot of PCA\n",
    "\n",
    "#df = pd.read_excel(file_path, sheet_name=sheet_name)\n",
    "#description = df.iloc[:, 0]\n",
    "\n",
    "#descriptions = []\n",
    "dc.reset_index(drop=True, inplace=True)\n",
    "ds.reset_index(drop=True, inplace=True)\n",
    "\n",
    "shapes1 = []\n",
    "for i in range(len(filtered_df)):\n",
    "    #print(f\"Index {i}: Color {dc['Color'][i]}, Shape {ds['Shapes'][i]}\")  # Debug print\n",
    "    shape1 = ax.scatter3D(xdata[i], ydata[i], zdata[i], c=dc['Color'][i], marker=ds[\"Shapes\"][i])\n",
    "    shapes1.append(shape1)\n",
    "    #text = ax.text(xdata[i], ydata[i], zdata[i], description[i], size=10, zorder=1, color='k')\n",
    "    #descriptions.append(text)\n",
    "\n",
    "#descriptions\n",
    "dots = ax.scatter3D(xdata, ydata, zdata, c=dc['Color'])\n",
    "dots.set_visible(True)\n",
    "\n",
    "def shape(Show_Shape):\n",
    "    if Show_Shape:\n",
    "        for shape1 in shapes1:\n",
    "            shape1.set_visible(True)  \n",
    "        dots.set_visible(False) \n",
    "    else:\n",
    "        dots.set_visible(True)\n",
    "        for shape1 in shapes1:\n",
    "            shape1.set_visible(False)\n",
    "\n",
    "interact(shape, Show_Shape=False)\n",
    "\n",
    "\n",
    "\n",
    "#legend\n",
    "handle1 = []\n",
    "label1 = []\n",
    "for lithology, color in color_map.items():\n",
    "    l1 = ax.scatter([], [], c=color, label=lithology)\n",
    "    handle1.append(l1)\n",
    "    label1.append(lithology)\n",
    "\n",
    "handle2 = []\n",
    "label2 = []\n",
    "for shape, shapes in color_map1.items():\n",
    "    l2 = ax.scatter([], [], c=\"black\", marker=shapes, label=shape)\n",
    "    handle2.append(l2)\n",
    "    label2.append(shape)\n",
    "\n",
    "legend1 = pyplot.legend(handle1, label1, bbox_to_anchor=(0.03, 0.2), title='Lithology', fontsize='x-small')\n",
    "legend2 = pyplot.legend(handle2, label2, bbox_to_anchor=(0.03, 0.2), title='Shapes', fontsize='x-small')\n",
    "ax.add_artist(legend1)\n",
    "ax.add_artist(legend2)\n",
    "\n",
    "\n",
    "def legenda(Legend):\n",
    "    if Legend:\n",
    "        legend1.set_visible(True)  \n",
    "        legend2.set_visible(False)\n",
    "    else:\n",
    "        legend1.set_visible(False)\n",
    "        legend2.set_visible(True)\n",
    "interact(legenda, Legend=[('Shapes Legend', True),('Lithology Legend', False)])\n",
    "\n",
    "\n",
    "\n",
    "# Arrows will be displayed for the following.\n",
    "show_names=df.columns.tolist()\n",
    "indx=df.columns.get_indexer(show_names)\n",
    "scale=2\n",
    "\n",
    "# Define the x, y, z variables\n",
    "loadings = pca.components_\n",
    "xs = scale*loadings[0]\n",
    "ys = scale*loadings[1]\n",
    "zs = scale*loadings[2]  \n",
    "# Plot title of graph\n",
    "plt.title(f'3D Biplot')\n",
    "  \n",
    "# Plot x, y, z labels\n",
    "ax.set_xlabel('PC1')#, rotation=150)\n",
    "ax.set_ylabel('PC2')\n",
    "ax.set_zlabel('PC3')#, rotation=60)\n",
    "#plt.savefig('3D_biplot.svg')\n",
    "\n",
    "\n",
    "\n",
    "\n",
    "arrow_list = []\n",
    "    \n",
    "# Plot the arrows\n",
    "x_arr = np.zeros(len(loadings[0]))\n",
    "y_arr = z_arr = x_arr\n",
    "# Plot specific arrow\n",
    "#indx=df.columns.get_loc(\"Zn_ppm\")\n",
    "\n",
    "#show_arrows = ax.quiver(x_arr[indx], y_arr[indx], z_arr[indx], xs[indx], ys[indx], zs[indx],color='r')\n",
    "for i, name in enumerate(df.columns):\n",
    "    ip = df.columns.get_loc(name)\n",
    "    arrow = ax.quiver(x_arr[ip], y_arr[ip], z_arr[ip], xs[ip], ys[ip], zs[ip], color='r', arrow_length_ratio = 0.1, linewidth=0.5)\n",
    "    arrow_list.append(arrow)\n",
    "    \n",
    "def findarrow(change):\n",
    "    if change: \n",
    "        for a in arrow_list:\n",
    "            a.set_visible(True)\n",
    "    else:\n",
    "        for a in arrow_list:\n",
    "            a.set_visible(False)\n",
    "            \n",
    "# Plot the loadings\n",
    "namelist = []\n",
    "\n",
    "for i , names in enumerate(show_names):\n",
    "    ip=indx[i]\n",
    "    #ax.scatter(xs[ip], ys[ip], zs[ip], s=100)\n",
    "    n = ax.text(xs[ip]+0.02, ys[ip]+0.02, zs[ip]+0.02, names, fontsize='small')\n",
    "    namelist.append(n)\n",
    "\n",
    "show_name_checkbox = widgets.Checkbox(value=False, description='Show all Names')\n",
    "all_arrow_checkbox = widgets.Checkbox(value=False, description='Show all Arrows')\n",
    "\n",
    "def findname(show_name):\n",
    "    if show_name:\n",
    "        for n in namelist:\n",
    "            n.set_visible(True)  \n",
    "    else:\n",
    "        for n in namelist:\n",
    "            n.set_visible(False)\n",
    "\n",
    "def findname_specific(change):\n",
    "    selected_items = change['new']\n",
    "    if 'all' in selected_items:\n",
    "        select_multiple.value = options\n",
    "        for n in namelist:\n",
    "            n.set_visible(True)\n",
    "        for arrow in arrow_list:\n",
    "            arrow.set_visible(True)\n",
    "    else:\n",
    "        # Otherwise, update visibility based on selected items\n",
    "        for i in range(len(options[1:])):  # Skip 'all' in options\n",
    "            if options[i + 1] in selected_items:\n",
    "                namelist[i].set_visible(True)\n",
    "                arrow_list[i].set_visible(True)\n",
    "            else:\n",
    "                namelist[i].set_visible(False)\n",
    "                arrow_list[i].set_visible(False)\n",
    "        show_name_checkbox.value = False\n",
    "        all_arrow_checkbox.value = False\n",
    "    plt.draw()\n",
    "\n",
    "interact(findname, show_name=show_name_checkbox)\n",
    "interact(findarrow, change=all_arrow_checkbox)\n",
    "\n",
    "options = ['all','Al2O3_pct','BaO_pct','CaO_pct','Fe2O3_pct','K2O_pct',\n",
    "           'MgO_pct','MnO_pct','Na2O_pct','P2O5_pct','SiO2_pct',\n",
    "           'SrO_ppm','TiO2_pct','LOI_pct','Ce_ppm','Cs_ppm','Dy_ppm',\n",
    "           'Er_ppm','Eu_ppm','Ga_ppm','Gd_ppm','Hf_ppm','Ho_ppm',\n",
    "           'La_ppm','Lu_ppm','Nb_ppm','Nd_ppm','Pr_ppm','Rb_ppm',\n",
    "           'Sm_ppm','Sn_ppm','Ta_ppm','Tb_ppm','Th_ppm','Tm_ppm',\n",
    "           'U_ppm','V_ppm','Y_ppm','Yb_ppm','Zr_ppm','As_ppm',\n",
    "           'Bi_ppm','Hg_ppm','In_ppm','Re_ppm','Sb_ppm','Sc_ppm',\n",
    "           'Se_ppm','Tl_ppm','Ag_ppm','Cd_ppm','Co_ppm','Cu_ppm',\n",
    "           'Li_ppm','Mo_ppm','Ni_ppm','Pb_ppm','Zn_ppm','C_pct','S_pct',]\n",
    "\n",
    "select_multiple = widgets.SelectMultiple(\n",
    "    options=options,\n",
    "    value=[],\n",
    "    description='Select multiple items:'\n",
    ")\n",
    "select_multiple.observe(findname_specific, 'value')\n",
    "print ('Press Command to Select Multiple')\n",
    "\n",
    "display(select_multiple)\n"
   ]
  },
  {
   "cell_type": "code",
   "execution_count": null,
   "id": "1fd54bc6-f9cd-4d0c-887f-1724db365a80",
   "metadata": {},
   "outputs": [],
   "source": [
    "from sklearn.svm import SVC\n",
    "from sklearn.pipeline import make_pipeline\n",
    "y = dc['Lithology']\n",
    "y = y.values.ravel()\n",
    "X = pca_df_scaled\n",
    "print(\"Shape of y:\", y.shape)\n",
    "print(\"Shape of X:\", X.shape)\n",
    "\n",
    "clf = make_pipeline(StandardScaler(), SVC(gamma='auto'))\n",
    "clf.fit(X, y)\n",
    "\n",
    "print(clf.predict([[0.3, -0.01, 0.1]]))"
   ]
  },
  {
   "cell_type": "code",
   "execution_count": null,
   "id": "a8670551-7e43-41ef-a119-3243fb2782b2",
   "metadata": {
    "tags": []
   },
   "outputs": [],
   "source": [
    "plt.figure(figsize=(9,8))\n",
    "\n",
    "def planes (options):\n",
    "    plt.clf()\n",
    "    xdata = pca_df_scaled[options[0]]\n",
    "    ydata = pca_df_scaled[options[1]]\n",
    "    \n",
    "    shapes2 = []\n",
    "    for i in range(len(df)):\n",
    "        shape2 = plt.scatter(xdata[i], ydata[i], c=dc['Color'][i], marker=ds[\"Shapes\"][i])\n",
    "        shapes2.append(shape2)\n",
    "    \n",
    "    dots2 = plt.scatter(xdata, ydata, c=dc['Color'])\n",
    "    dots2.set_visible(True)\n",
    "    \n",
    "    def shape(Show_Shape):\n",
    "        if Show_Shape:\n",
    "            for shape2 in shapes2:\n",
    "                shape2.set_visible(True)  \n",
    "            dots2.set_visible(False) \n",
    "        else:\n",
    "            dots2.set_visible(True)\n",
    "            for shape2 in shapes2:\n",
    "                shape2.set_visible(False)\n",
    "    \n",
    "    interact(shape, Show_Shape=False)\n",
    "    \n",
    "    \n",
    "    show_names=df.columns.tolist()\n",
    "    indx=df.columns.get_indexer(show_names)\n",
    "    \n",
    "    \n",
    "    loadings = pca.components_\n",
    "    xs = loadings[options[2]]\n",
    "    ys = loadings[options[3]]\n",
    "    \n",
    "    \n",
    "    #Plot the arrows\n",
    "    arrow_list_2d = []\n",
    "    \n",
    "    x_arr = np.zeros(len(loadings[0]))\n",
    "    y_arr = x_arr\n",
    "    \n",
    "    arrow_scale=0.5\n",
    "    for i, name in enumerate(df.columns):\n",
    "        ip = df.columns.get_loc(name)\n",
    "        arrow_2d = plt.quiver(x_arr[ip], y_arr[ip], xs[ip], ys[ip], color='r', scale = arrow_scale, width = 0.003)\n",
    "        arrow_list_2d.append(arrow_2d)\n",
    "        \n",
    "    def findarrow_2d(Visibility_arrow):\n",
    "        if Visibility_arrow: \n",
    "            for a in arrow_list_2d:\n",
    "                a.set_visible(True)\n",
    "        else:\n",
    "            for a in arrow_list_2d:\n",
    "                a.set_visible(False)\n",
    "    interact(findarrow_2d, Visibility_arrow=True)\n",
    "    \n",
    "    # namelist = []\n",
    "    \n",
    "    # for i , names in enumerate(show_names):\n",
    "    #     ip=indx[i]\n",
    "    #     #ax.scatter(xs[ip], ys[ip], zs[ip], s=100)\n",
    "    #     n = plt.text((1/arrow_scale)*xs[ip], (1/arrow_scale)*ys[ip], names, fontsize='small')\n",
    "    #     namelist.append(n)\n",
    "    \n",
    "    # def findname(show_name):\n",
    "    #     if show_name:\n",
    "    #         for n in namelist:\n",
    "    #             n.set_visible(True)  \n",
    "    #     else:\n",
    "    #         for n in namelist:\n",
    "    #             n.set_visible(False)\n",
    "    \n",
    "    # interact(findname, show_name=True)\n",
    "    \n",
    "    plt.xlabel(options[0])\n",
    "    plt.ylabel(options[1])\n",
    "    \n",
    "    plt.title(f\"{options[0]}/{options[1]} plane\")\n",
    "\n",
    "\n",
    "widgets.interact(planes, options = [('PC1 vs PC3', ['PC1', 'PC3', 0, 2]), ('PC2 vs PC3', ['PC2', 'PC3', 1, 2]), ('PC1 vs PC2', ['PC1', 'PC2', 0, 1])])"
   ]
  },
  {
   "cell_type": "code",
   "execution_count": null,
   "id": "2ed6b4b0-41a1-4a38-8274-de322ef74c35",
   "metadata": {
    "tags": []
   },
   "outputs": [],
   "source": [
    "# # import relevant libraries for 3d graph\n",
    "# from mpl_toolkits.mplot3d import Axes3D\n",
    "# fig = plt.figure(figsize=(10,10))\n",
    " \n",
    "# # choose projection 3d for creating a 3d graph\n",
    "# axis = fig.add_subplot(111, projection='3d')\n",
    " \n",
    "# # x[:,0]is pc1,x[:,1] is pc2 while x[:,2] is pc3\n",
    "# img=axis.scatter(x[:,0],x[:,1],x[:,2], c=df['Zn_ppm'])\n",
    "\n",
    "# # Plot the loadings\n",
    "# for i in range(5):\n",
    "#     axis.scatter(xs[i], ys[i], zs[i], s=200)\n",
    "#     #axis.text(\n",
    "#     #    xs[i] + 0.1, \n",
    "#     #    ys[i] + 0.1, \n",
    "#     #    zs[i] + 0.1, \n",
    "#     #    varnames)\n",
    "  \n",
    "# # Plot the arrows\n",
    "# x_arr = np.zeros(len(loadings[0]))\n",
    "# y_arr = z_arr = x_arr\n",
    "# axis.quiver(x_arr, y_arr, z_arr, xs, ys, zs)\n",
    "\n",
    "# axis.set_xlabel(\"PC1\")\n",
    "# axis.set_ylabel(\"PC2\")\n",
    "# axis.set_zlabel(\"PC3\")\n",
    "# fig.colorbar(img)"
   ]
  },
  {
   "cell_type": "code",
   "execution_count": null,
   "id": "c1dcbedc-8fcb-4cd7-91e6-619bb2c23151",
   "metadata": {
    "tags": []
   },
   "outputs": [],
   "source": [
    "from sklearn.cluster import KMeans\n",
    "import seaborn as sns\n",
    "from sklearn.preprocessing import StandardScaler\n",
    "from sklearn.pipeline import Pipeline\n",
    "\n",
    "# Remove all rows that have at least one NaN.\n",
    "df = df.dropna()\n",
    "\n",
    "# Remove \"<\" from the values.\n",
    "df['Th_ppm'] = df['Th_ppm'].apply(lambda x: x.replace('<', '') if isinstance(x, str) and '<' in x else x)\n",
    "df['U_ppm'] = df['U_ppm'].apply(lambda x: x.replace('<', '') if isinstance(x, str) and '<' in x else x)\n",
    "\n",
    "# Change to \"object\" to \"float\".\n",
    "df['Th_ppm'] = df['Th_ppm'].astype(float)\n",
    "df['U_ppm'] = df['U_ppm'].astype(float)"
   ]
  },
  {
   "cell_type": "code",
   "execution_count": null,
   "id": "79d7fe2c-5eed-4d5f-a3e7-1cb5a5a4a9f2",
   "metadata": {
    "tags": []
   },
   "outputs": [],
   "source": [
    "%matplotlib widget\n",
    "from sklearn.cluster import KMeans\n",
    "from scipy.spatial import Voronoi, voronoi_plot_2d\n",
    "from ipywidgets import interact, IntSlider\n",
    "\n",
    "# Set the data for clustering\n",
    "X = df[['Th_ppm', 'U_ppm']].values\n",
    "\n",
    "#scaler = StandardScaler()\n",
    "#X_scaled = scaler.fit_transform(X)\n",
    "\n",
    "dd = pd.read_excel(file_path, sheet_name=sheet_name)\n",
    "\n",
    "#scaler and model\n",
    "def update_kmeans(k=3):\n",
    "    global df, X, dd      \n",
    "    pipe = Pipeline([\n",
    "    (\"scale\", StandardScaler()),\n",
    "    (\"model\", KMeans(n_clusters=k, random_state = 0, n_init='auto'))])\n",
    "\n",
    "    pipe.fit(X)\n",
    "\n",
    "    # Add cluster labels to the DataFrame\n",
    "    df['cluster'] = pipe.named_steps['model'].labels_\n",
    "\n",
    "    x_min, x_max = X[:, 0].min() - 1, X[:, 0].max() + 1\n",
    "    y_min, y_max = X[:, 1].min() - 1, X[:, 1].max() + 1\n",
    "    xx, yy = np.meshgrid(np.arange(x_min, x_max, 0.01),\n",
    "                         np.arange(y_min, y_max, 0.01))\n",
    "\n",
    "    Z = pipe.named_steps['model'].predict(pipe.named_steps['scale'].transform(np.c_[xx.ravel(), yy.ravel()]))\n",
    "    Z = Z.reshape(xx.shape)\n",
    "\n",
    "    plt.figure(figsize=(9, 7))\n",
    "    plt.contourf(xx, yy, Z, cmap=plt.cm.Pastel1, alpha=0.5)\n",
    "    sns.scatterplot(data=df, x=\"Th_ppm\", y=\"U_ppm\", hue='cluster', palette='viridis')\n",
    "\n",
    "\n",
    "    df.apply(lambda row: plt.text(row['Th_ppm'], row['U_ppm'], dd.iloc[row.name, 0], fontsize=7, ha='center'), axis=1)\n",
    "\n",
    "    # Show the plot\n",
    "    scaler = pipe.named_steps['scale']\n",
    "    centroids = pipe.named_steps['model'].cluster_centers_\n",
    "    centroids_original = scaler.inverse_transform(centroids)\n",
    "\n",
    "    plt.scatter(centroids_original[:,0], centroids_original[:,1], \n",
    "            marker=\"X\", c=\"red\", s=80, label=\"centroids\")\n",
    "    \n",
    "    plt.legend()\n",
    "    plt.title(\"K-Means Clustering\")\n",
    "    plt.show()\n",
    "    \n",
    "interact(update_kmeans, k = IntSlider(min=2, max=10, step=1, description='N Clusters'))\n",
    "\n",
    "\n",
    "\n",
    "\n"
   ]
  },
  {
   "cell_type": "code",
   "execution_count": null,
   "id": "d06e41c4-2bff-4b77-9116-8068bc49aa86",
   "metadata": {
    "tags": []
   },
   "outputs": [],
   "source": [
    "# Plot the distortion score elbow.\n",
    "from yellowbrick.cluster import KElbowVisualizer\n",
    "\n",
    "plt.figure(figsize=(10, 6))\n",
    "model = KMeans(n_init='auto')\n",
    "visualizer = KElbowVisualizer(model, k=(1, 12)).fit(X)\n",
    "visualizer.show()"
   ]
  }
 ],
 "metadata": {
  "kernelspec": {
   "display_name": "Python 3 (ipykernel)",
   "language": "python",
   "name": "python3"
  },
  "language_info": {
   "codemirror_mode": {
    "name": "ipython",
    "version": 3
   },
   "file_extension": ".py",
   "mimetype": "text/x-python",
   "name": "python",
   "nbconvert_exporter": "python",
   "pygments_lexer": "ipython3",
   "version": "3.11.8"
  }
 },
 "nbformat": 4,
 "nbformat_minor": 5
}
